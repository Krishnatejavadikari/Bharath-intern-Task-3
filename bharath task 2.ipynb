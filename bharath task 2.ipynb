{
 "cells": [
  {
   "cell_type": "code",
   "execution_count": 6,
   "id": "639b4faa",
   "metadata": {},
   "outputs": [
    {
     "name": "stdout",
     "output_type": "stream",
     "text": [
      "Requirement already satisfied: pyspellchecker in c:\\users\\dell\\appdata\\local\\programs\\python\\python310\\lib\\site-packages (0.7.2)\n"
     ]
    }
   ],
   "source": [
    "!pip install pyspellchecker\n"
   ]
  },
  {
   "cell_type": "code",
   "execution_count": 7,
   "id": "33c491c2",
   "metadata": {},
   "outputs": [
    {
     "name": "stdout",
     "output_type": "stream",
     "text": [
      "Requirement already satisfied: pattern in c:\\users\\dell\\appdata\\local\\programs\\python\\python310\\lib\\site-packages (3.6)\n",
      "Requirement already satisfied: future in c:\\users\\dell\\appdata\\local\\programs\\python\\python310\\lib\\site-packages (from pattern) (0.18.3)\n",
      "Requirement already satisfied: backports.csv in c:\\users\\dell\\appdata\\local\\programs\\python\\python310\\lib\\site-packages (from pattern) (1.0.7)\n",
      "Requirement already satisfied: mysqlclient in c:\\users\\dell\\appdata\\local\\programs\\python\\python310\\lib\\site-packages (from pattern) (2.2.0)\n",
      "Requirement already satisfied: beautifulsoup4 in c:\\users\\dell\\appdata\\local\\programs\\python\\python310\\lib\\site-packages (from pattern) (4.12.2)\n",
      "Requirement already satisfied: lxml in c:\\users\\dell\\appdata\\local\\programs\\python\\python310\\lib\\site-packages (from pattern) (4.9.2)\n",
      "Requirement already satisfied: feedparser in c:\\users\\dell\\appdata\\local\\programs\\python\\python310\\lib\\site-packages (from pattern) (6.0.10)\n",
      "Requirement already satisfied: pdfminer.six in c:\\users\\dell\\appdata\\local\\programs\\python\\python310\\lib\\site-packages (from pattern) (20221105)\n",
      "Requirement already satisfied: numpy in c:\\users\\dell\\appdata\\local\\programs\\python\\python310\\lib\\site-packages (from pattern) (1.25.0)\n",
      "Requirement already satisfied: scipy in c:\\users\\dell\\appdata\\local\\programs\\python\\python310\\lib\\site-packages (from pattern) (1.10.1)\n",
      "Requirement already satisfied: nltk in c:\\users\\dell\\appdata\\local\\programs\\python\\python310\\lib\\site-packages (from pattern) (3.8.1)\n",
      "Requirement already satisfied: python-docx in c:\\users\\dell\\appdata\\local\\programs\\python\\python310\\lib\\site-packages (from pattern) (0.8.11)\n",
      "Requirement already satisfied: cherrypy in c:\\users\\dell\\appdata\\local\\programs\\python\\python310\\lib\\site-packages (from pattern) (18.8.0)\n",
      "Requirement already satisfied: requests in c:\\users\\dell\\appdata\\local\\programs\\python\\python310\\lib\\site-packages (from pattern) (2.31.0)\n",
      "Requirement already satisfied: soupsieve>1.2 in c:\\users\\dell\\appdata\\local\\programs\\python\\python310\\lib\\site-packages (from beautifulsoup4->pattern) (2.4.1)\n",
      "Requirement already satisfied: cheroot>=8.2.1 in c:\\users\\dell\\appdata\\local\\programs\\python\\python310\\lib\\site-packages (from cherrypy->pattern) (10.0.0)\n",
      "Requirement already satisfied: portend>=2.1.1 in c:\\users\\dell\\appdata\\local\\programs\\python\\python310\\lib\\site-packages (from cherrypy->pattern) (3.1.0)\n",
      "Requirement already satisfied: more-itertools in c:\\users\\dell\\appdata\\local\\programs\\python\\python310\\lib\\site-packages (from cherrypy->pattern) (9.1.0)\n",
      "Requirement already satisfied: zc.lockfile in c:\\users\\dell\\appdata\\local\\programs\\python\\python310\\lib\\site-packages (from cherrypy->pattern) (3.0.post1)\n",
      "Requirement already satisfied: jaraco.collections in c:\\users\\dell\\appdata\\local\\programs\\python\\python310\\lib\\site-packages (from cherrypy->pattern) (4.2.0)\n",
      "Requirement already satisfied: sgmllib3k in c:\\users\\dell\\appdata\\local\\programs\\python\\python310\\lib\\site-packages (from feedparser->pattern) (1.0.0)\n",
      "Requirement already satisfied: click in c:\\users\\dell\\appdata\\local\\programs\\python\\python310\\lib\\site-packages (from nltk->pattern) (8.1.3)\n",
      "Requirement already satisfied: joblib in c:\\users\\dell\\appdata\\local\\programs\\python\\python310\\lib\\site-packages (from nltk->pattern) (1.2.0)\n",
      "Requirement already satisfied: regex>=2021.8.3 in c:\\users\\dell\\appdata\\local\\programs\\python\\python310\\lib\\site-packages (from nltk->pattern) (2023.6.3)\n",
      "Requirement already satisfied: tqdm in c:\\users\\dell\\appdata\\local\\programs\\python\\python310\\lib\\site-packages (from nltk->pattern) (4.65.0)\n",
      "Requirement already satisfied: charset-normalizer>=2.0.0 in c:\\users\\dell\\appdata\\local\\programs\\python\\python310\\lib\\site-packages (from pdfminer.six->pattern) (3.1.0)\n",
      "Requirement already satisfied: cryptography>=36.0.0 in c:\\users\\dell\\appdata\\local\\programs\\python\\python310\\lib\\site-packages (from pdfminer.six->pattern) (41.0.1)\n",
      "Requirement already satisfied: idna<4,>=2.5 in c:\\users\\dell\\appdata\\local\\programs\\python\\python310\\lib\\site-packages (from requests->pattern) (2.10)\n",
      "Requirement already satisfied: urllib3<3,>=1.21.1 in c:\\users\\dell\\appdata\\local\\programs\\python\\python310\\lib\\site-packages (from requests->pattern) (2.0.3)\n",
      "Requirement already satisfied: certifi>=2017.4.17 in c:\\users\\dell\\appdata\\local\\programs\\python\\python310\\lib\\site-packages (from requests->pattern) (2023.5.7)\n",
      "Requirement already satisfied: jaraco.functools in c:\\users\\dell\\appdata\\local\\programs\\python\\python310\\lib\\site-packages (from cheroot>=8.2.1->cherrypy->pattern) (3.7.0)\n",
      "Requirement already satisfied: cffi>=1.12 in c:\\users\\dell\\appdata\\local\\programs\\python\\python310\\lib\\site-packages (from cryptography>=36.0.0->pdfminer.six->pattern) (1.15.1)\n",
      "Requirement already satisfied: tempora>=1.8 in c:\\users\\dell\\appdata\\local\\programs\\python\\python310\\lib\\site-packages (from portend>=2.1.1->cherrypy->pattern) (5.3.0)\n",
      "Requirement already satisfied: colorama in c:\\users\\dell\\appdata\\local\\programs\\python\\python310\\lib\\site-packages (from click->nltk->pattern) (0.4.6)\n",
      "Requirement already satisfied: jaraco.text in c:\\users\\dell\\appdata\\local\\programs\\python\\python310\\lib\\site-packages (from jaraco.collections->cherrypy->pattern) (3.11.1)\n",
      "Requirement already satisfied: setuptools in c:\\users\\dell\\appdata\\local\\programs\\python\\python310\\lib\\site-packages (from zc.lockfile->cherrypy->pattern) (65.5.0)\n",
      "Requirement already satisfied: pycparser in c:\\users\\dell\\appdata\\local\\programs\\python\\python310\\lib\\site-packages (from cffi>=1.12->cryptography>=36.0.0->pdfminer.six->pattern) (2.21)\n",
      "Requirement already satisfied: pytz in c:\\users\\dell\\appdata\\local\\programs\\python\\python310\\lib\\site-packages (from tempora>=1.8->portend>=2.1.1->cherrypy->pattern) (2023.3)\n",
      "Requirement already satisfied: jaraco.context>=4.1 in c:\\users\\dell\\appdata\\local\\programs\\python\\python310\\lib\\site-packages (from jaraco.text->jaraco.collections->cherrypy->pattern) (4.3.0)\n",
      "Requirement already satisfied: autocommand in c:\\users\\dell\\appdata\\local\\programs\\python\\python310\\lib\\site-packages (from jaraco.text->jaraco.collections->cherrypy->pattern) (2.2.2)\n",
      "Requirement already satisfied: inflect in c:\\users\\dell\\appdata\\local\\programs\\python\\python310\\lib\\site-packages (from jaraco.text->jaraco.collections->cherrypy->pattern) (6.0.4)\n",
      "Requirement already satisfied: pydantic>=1.9.1 in c:\\users\\dell\\appdata\\local\\programs\\python\\python310\\lib\\site-packages (from inflect->jaraco.text->jaraco.collections->cherrypy->pattern) (1.10.9)\n",
      "Requirement already satisfied: typing-extensions>=4.2.0 in c:\\users\\dell\\appdata\\local\\programs\\python\\python310\\lib\\site-packages (from pydantic>=1.9.1->inflect->jaraco.text->jaraco.collections->cherrypy->pattern) (4.6.3)\n",
      "Requirement already satisfied: autocorrect in c:\\users\\dell\\appdata\\local\\programs\\python\\python310\\lib\\site-packages (2.6.1)\n",
      "Requirement already satisfied: textblob in c:\\users\\dell\\appdata\\local\\programs\\python\\python310\\lib\\site-packages (0.17.1)\n",
      "Requirement already satisfied: nltk>=3.1 in c:\\users\\dell\\appdata\\local\\programs\\python\\python310\\lib\\site-packages (from textblob) (3.8.1)\n",
      "Requirement already satisfied: click in c:\\users\\dell\\appdata\\local\\programs\\python\\python310\\lib\\site-packages (from nltk>=3.1->textblob) (8.1.3)\n",
      "Requirement already satisfied: joblib in c:\\users\\dell\\appdata\\local\\programs\\python\\python310\\lib\\site-packages (from nltk>=3.1->textblob) (1.2.0)\n",
      "Requirement already satisfied: regex>=2021.8.3 in c:\\users\\dell\\appdata\\local\\programs\\python\\python310\\lib\\site-packages (from nltk>=3.1->textblob) (2023.6.3)\n",
      "Requirement already satisfied: tqdm in c:\\users\\dell\\appdata\\local\\programs\\python\\python310\\lib\\site-packages (from nltk>=3.1->textblob) (4.65.0)\n",
      "Requirement already satisfied: colorama in c:\\users\\dell\\appdata\\local\\programs\\python\\python310\\lib\\site-packages (from click->nltk>=3.1->textblob) (0.4.6)\n",
      "Requirement already satisfied: textdistance in c:\\users\\dell\\appdata\\local\\programs\\python\\python310\\lib\\site-packages (4.5.0)\n"
     ]
    }
   ],
   "source": [
    "!pip install pattern\n",
    "!pip install autocorrect\n",
    "!pip install textblob\n",
    "!pip install textdistance"
   ]
  },
  {
   "cell_type": "code",
   "execution_count": 9,
   "id": "e96b7831",
   "metadata": {},
   "outputs": [
    {
     "name": "stdout",
     "output_type": "stream",
     "text": [
      "Translated text: హలో, ఇది కృష్ణ తేజ\n"
     ]
    }
   ],
   "source": [
    "from googletrans import Translator\n",
    "translator = Translator(service_urls=['translate.google.com'])\n",
    "\n",
    "def translate_text(text, source_lang, target_lang):\n",
    "    try:\n",
    "        translation = translator.translate(text, src=source_lang, dest=target_lang)\n",
    "        return translation.text\n",
    "    except Exception as e:\n",
    "        print(\"Translation Error:\", str(e))\n",
    "        return None\n",
    "\n",
    "# Example usage\n",
    "source_text = \"Hello, This is Krishna teja\"\n",
    "source_language = \"en\"\n",
    "target_language = \"telugu\"\n",
    "\n",
    "translated_text = translate_text(source_text, source_language, target_language)\n",
    "print(\"Translated text:\", translated_text)"
   ]
  },
  {
   "cell_type": "code",
   "execution_count": null,
   "id": "960a2d21",
   "metadata": {},
   "outputs": [],
   "source": []
  }
 ],
 "metadata": {
  "kernelspec": {
   "display_name": "Python 3 (ipykernel)",
   "language": "python",
   "name": "python3"
  },
  "language_info": {
   "codemirror_mode": {
    "name": "ipython",
    "version": 3
   },
   "file_extension": ".py",
   "mimetype": "text/x-python",
   "name": "python",
   "nbconvert_exporter": "python",
   "pygments_lexer": "ipython3",
   "version": "3.10.11"
  }
 },
 "nbformat": 4,
 "nbformat_minor": 5
}
